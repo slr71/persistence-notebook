{
 "cells": [
  {
   "cell_type": "markdown",
   "metadata": {},
   "source": [
    "# iRODS Configuration\n",
    "\n",
    "This cell should be executed before any other cell in the notebook. It creates the iRODS configuration file and initializes the iRODS connection."
   ]
  },
  {
   "cell_type": "code",
   "execution_count": null,
   "metadata": {},
   "outputs": [],
   "source": [
    "import getpass\n",
    "import json\n",
    "import os\n",
    "import os.path\n",
    "import subprocess\n",
    "\n",
    "def build_irods_config():\n",
    "    \"Builds the iRODS configuration JSON.\"\n",
    "    config = {\n",
    "        \"irods_host\": \"data.cyverse.org\",\n",
    "        \"irods_port\": 1247,\n",
    "        \"irods_user_name\": os.getenv(\"IPLANT_USER\"),\n",
    "        \"irods_zone_name\": \"iplant\",\n",
    "    }\n",
    "    return json.dumps(config, indent=4)\n",
    "\n",
    "def run_shell_cmd(args):\n",
    "    \"Runs a shell command and displays the output.\"\n",
    "    proc = subprocess.run(args, capture_output=True)\n",
    "    if proc.returncode != 0:\n",
    "        print(\"\\nCommand failed with return code: \", proc.returncode)\n",
    "    if len(proc.stdout) != 0:\n",
    "        print(\"\\nStandard Output:\\n\", proc.stdout.decode())\n",
    "    if len(proc.stderr) != 0:\n",
    "        print(\"\\nStandard Error Output:\\n\", proc.stderr.decode())\n",
    "\n",
    "# Create the iRODS configuration directory if it doesn't exist.\n",
    "config_dir = os.path.expanduser(\"~/.irods\")\n",
    "os.makedirs(config_dir, mode=0o700, exist_ok=True)\n",
    "\n",
    "# Build the iRODS configuration file if it doesn't already exist.\n",
    "config_file = os.path.join(config_dir, \"irods_environment.json\")\n",
    "if not os.path.exists(config_file):\n",
    "    with open(config_file, \"w\") as f:\n",
    "        print(build_irods_config(), file=f)\n",
    "\n",
    "# Prompt for the password.\n",
    "print(\"Password: \", end='', flush=True)\n",
    "password = getpass.getpass()\n",
    "\n",
    "# Initialize the iRODS connection.\n",
    "run_shell_cmd([\"iinit\", password])"
   ]
  },
  {
   "cell_type": "markdown",
   "metadata": {},
   "source": [
    "# Data Synchronization\n",
    "\n",
    "After executing the previous cell, this cell can be executed as many times as desired in order to copy your output data to the CyVerse data store."
   ]
  },
  {
   "cell_type": "code",
   "execution_count": null,
   "metadata": {},
   "outputs": [],
   "source": [
    "source_dir = os.path.expanduser(\"~\")\n",
    "dest_dir = os.path.join(\"i:/iplant/home\", os.getenv(\"IPLANT_USER\"), \"data\")\n",
    "run_shell_cmd([\"irsync\", \"-r\", source_dir, dest_dir])"
   ]
  }
 ],
 "metadata": {
  "kernelspec": {
   "display_name": "Python 3",
   "language": "python",
   "name": "python3"
  },
  "language_info": {
   "codemirror_mode": {
    "name": "ipython",
    "version": 3
   },
   "file_extension": ".py",
   "mimetype": "text/x-python",
   "name": "python",
   "nbconvert_exporter": "python",
   "pygments_lexer": "ipython3",
   "version": "3.7.6"
  }
 },
 "nbformat": 4,
 "nbformat_minor": 4
}
